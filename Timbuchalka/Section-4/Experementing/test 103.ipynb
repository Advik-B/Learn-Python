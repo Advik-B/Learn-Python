{
 "metadata": {
  "language_info": {
   "codemirror_mode": {
    "name": "ipython",
    "version": 3
   },
   "file_extension": ".py",
   "mimetype": "text/x-python",
   "name": "python",
   "nbconvert_exporter": "python",
   "pygments_lexer": "ipython3",
   "version": "3.9.4"
  },
  "orig_nbformat": 2,
  "kernelspec": {
   "name": "python394jvsc74a57bd0e7e4b47c004e3d3ba918f7eb3c935e065d2f9333a4d406e4bb09ac09be89fb35",
   "display_name": "Python 3.9.4 64-bit"
  },
  "metadata": {
   "interpreter": {
    "hash": "e7e4b47c004e3d3ba918f7eb3c935e065d2f9333a4d406e4bb09ac09be89fb35"
   }
  }
 },
 "nbformat": 4,
 "nbformat_minor": 2,
 "cells": [
  {
   "cell_type": "code",
   "execution_count": 10,
   "metadata": {},
   "outputs": [
    {
     "output_type": "stream",
     "name": "stdout",
     "text": [
      "I am not foolish\n"
     ]
    }
   ],
   "source": [
    "age = int(input(\"How old are you ?\"))\n",
    "#if age >= 16 and age <= 65:\n",
    "if 16 <= age <= 65:\n",
    "    print (\"Have a good day at work.\")\n",
    "elif age > 100:\n",
    "    print (\"I am not foolish\")\n",
    "    enkkey = input(\"press enter to exit\")\n",
    "elif age <= 0:\n",
    "    print (\"65 more years to work for you  \")\n",
    "else:\n",
    "    print (f\"Enjoy your free time ( you need to work after {65 - age} years ).\")"
   ]
  }
 ]
}